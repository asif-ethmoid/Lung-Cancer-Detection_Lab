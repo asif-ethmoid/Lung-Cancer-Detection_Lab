{
  "nbformat": 4,
  "nbformat_minor": 0,
  "metadata": {
    "colab": {
      "provenance": [],
      "authorship_tag": "ABX9TyMAFR+TxufvMpS5PGT7tFWT",
      "include_colab_link": true
    },
    "kernelspec": {
      "name": "python3",
      "display_name": "Python 3"
    },
    "language_info": {
      "name": "python"
    }
  },
  "cells": [
    {
      "cell_type": "markdown",
      "metadata": {
        "id": "view-in-github",
        "colab_type": "text"
      },
      "source": [
        "<a href=\"https://colab.research.google.com/github/asif-ethmoid/Lung-Cancer-Detection_Lab/blob/main/Lung_Cancer_Detection_Lab_Project.ipynb\" target=\"_parent\"><img src=\"https://colab.research.google.com/assets/colab-badge.svg\" alt=\"Open In Colab\"/></a>"
      ]
    },
    {
      "cell_type": "code",
      "execution_count": null,
      "metadata": {
        "id": "jR-S0BAtgfIQ"
      },
      "outputs": [],
      "source": []
    },
    {
      "cell_type": "code",
      "source": [
        "from google.colab import drive\n",
        "drive.mount('/content/drive/')"
      ],
      "metadata": {
        "colab": {
          "base_uri": "https://localhost:8080/"
        },
        "id": "2_EmdQ7bVETu",
        "outputId": "914c7d7a-9f88-4ffb-d106-ce35b87a34cf"
      },
      "execution_count": null,
      "outputs": [
        {
          "output_type": "stream",
          "name": "stdout",
          "text": [
            "Drive already mounted at /content/drive/; to attempt to forcibly remount, call drive.mount(\"/content/drive/\", force_remount=True).\n"
          ]
        }
      ]
    },
    {
      "cell_type": "code",
      "source": [
        "import cv2\n",
        "from google.colab.patches import cv2_imshow\n",
        "import numpy as np\n",
        "import pandas as pd\n",
        "from sklearn.neighbors import KNeighborsClassifier\n",
        "from sklearn.ensemble import RandomForestClassifier\n",
        "from sklearn.tree import DecisionTreeClassifier\n",
        "from sklearn.cluster import KMeans\n",
        "from sklearn.svm import SVC\n",
        "from sklearn.model_selection import train_test_split\n",
        "from pathlib import Path\n",
        "from sklearn.metrics import accuracy_score, precision_score, recall_score, f1_score\n",
        "\n",
        "\n",
        "\n"
      ],
      "metadata": {
        "id": "j0tEBh0S3hFq"
      },
      "execution_count": null,
      "outputs": []
    },
    {
      "cell_type": "code",
      "source": [
        "import os\n",
        "import cv2\n",
        "\n",
        "# Define a mapping from folder names to class labels\n",
        "label_mapping = {\n",
        "    'Bengin': 0,\n",
        "    'Malignant': 1,\n",
        "    'Normal': 2\n",
        "}\n",
        "\n",
        "def load_images_from_folders(base_dir, debug=False):\n",
        "\n",
        "    images = []\n",
        "    labels = []\n",
        "\n",
        "    for class_name, class_label in label_mapping.items():\n",
        "        class_dir = os.path.join(base_dir, class_name)\n",
        "\n",
        "        if not os.path.isdir(class_dir):\n",
        "            print(f\"Directory {class_dir} not found, skipping...\")\n",
        "            continue\n",
        "\n",
        "        for filename in os.listdir(class_dir):\n",
        "            image_path = os.path.join(class_dir, filename)\n",
        "            if not os.path.isfile(image_path):\n",
        "                continue\n",
        "\n",
        "            # Read the image\n",
        "            image = cv2.imread(image_path)\n",
        "            if image is None:\n",
        "                if debug:\n",
        "                    print(f\"Failed to read {image_path}. Skipping.\")\n",
        "                continue\n",
        "\n",
        "            # Convert the image to grayscale\n",
        "            gray_image = cv2.cvtColor(image, cv2.COLOR_BGR2GRAY)\n",
        "\n",
        "            # Resize the image to the desired size\n",
        "            resized_image = cv2.resize(gray_image, (128, 128))\n",
        "\n",
        "\n",
        "            images.append(resized_image)  # Append the image to the list\n",
        "            labels.append(class_label)  # Append the corresponding label\n",
        "\n",
        "            if debug and len(images) % 100 == 0:\n",
        "                print(f\"Loaded {len(images)} images.\")\n",
        "\n",
        "    return images, labels\n",
        "\n"
      ],
      "metadata": {
        "id": "OseXCGA4cgoy"
      },
      "execution_count": null,
      "outputs": []
    },
    {
      "cell_type": "code",
      "source": [
        "# Load images and labels\n",
        "\n",
        "base_dir = '/content/drive/MyDrive/Dataset/lung'\n",
        "\n",
        "images, labels = load_images_from_folders(base_dir, debug=False)"
      ],
      "metadata": {
        "id": "4j1mFBP34fy2"
      },
      "execution_count": null,
      "outputs": []
    },
    {
      "cell_type": "code",
      "source": [
        "print(len(images))\n",
        "print(len(labels))"
      ],
      "metadata": {
        "colab": {
          "base_uri": "https://localhost:8080/"
        },
        "id": "BdrI8R52d9IR",
        "outputId": "82c2bfda-eff1-4c2e-c726-6d0dd6be4297"
      },
      "execution_count": null,
      "outputs": [
        {
          "output_type": "stream",
          "name": "stdout",
          "text": [
            "1097\n",
            "1097\n"
          ]
        }
      ]
    },
    {
      "cell_type": "code",
      "source": [
        "print(images[0].shape)\n"
      ],
      "metadata": {
        "colab": {
          "base_uri": "https://localhost:8080/"
        },
        "id": "lOi0VTx5eHtg",
        "outputId": "186c2a93-523f-45d1-fb30-0ef2dd703cc1"
      },
      "execution_count": null,
      "outputs": [
        {
          "output_type": "stream",
          "name": "stdout",
          "text": [
            "(128, 128)\n"
          ]
        }
      ]
    },
    {
      "cell_type": "code",
      "source": [
        "def extract_sobel_features():\n",
        "  features = []\n",
        "  for gray in images:\n",
        "\n",
        "    # Apply Sobel edge detection\n",
        "    sobelx = cv2.Sobel(gray, cv2.CV_64F, 1, 0, ksize=3)\n",
        "    sobely = cv2.Sobel(gray, cv2.CV_64F, 0, 1, ksize=3)\n",
        "    abs_grad_x = cv2.convertScaleAbs(sobelx)\n",
        "    abs_grad_y = cv2.convertScaleAbs(sobely)\n",
        "    edges = cv2.addWeighted(abs_grad_x, 0.5, abs_grad_y, 0.5, 0)\n",
        "    #Resize\n",
        "    edges = cv2.resize(edges, (128, 128))\n",
        "    # Flatten the image\n",
        "    features.append(np.ravel(edges))\n",
        "\n",
        "\n",
        "  return features\n",
        "sobel_features = extract_sobel_features()"
      ],
      "metadata": {
        "id": "P34j9WEyiCXM"
      },
      "execution_count": null,
      "outputs": []
    },
    {
      "cell_type": "code",
      "source": [
        "from skimage.feature import hog\n",
        "#Histogram of Oriented Gradients (HOG)\n",
        "def extract_hog_features(images, orientations=9, pixels_per_cell=(8, 8), cells_per_block=(2, 2)):\n",
        "    features = []\n",
        "    for gray in images:\n",
        "\n",
        "        # Resize image to a standard size\n",
        "        resized = cv2.resize(gray, (128, 128))\n",
        "\n",
        "        # Compute HOG features\n",
        "        hog_features = hog(resized, orientations=orientations, pixels_per_cell=pixels_per_cell,\n",
        "                           cells_per_block=cells_per_block, block_norm='L2-Hys', feature_vector=True)\n",
        "\n",
        "        features.append(hog_features)\n",
        "\n",
        "    return np.array(features)\n",
        "\n",
        "hog_features = extract_hog_features(images)"
      ],
      "metadata": {
        "id": "sf3MwDb2i7HG"
      },
      "execution_count": null,
      "outputs": []
    },
    {
      "cell_type": "code",
      "source": [
        "from skimage.feature import local_binary_pattern\n",
        "#Local Binary Patterns (LBP)\n",
        "def extract_lbp_features(images, n_points=8, radius=1, method='uniform'):\n",
        "    features = []\n",
        "    for gray in images:\n",
        "\n",
        "\n",
        "        # Compute LBP\n",
        "        lbp = local_binary_pattern(gray, n_points, radius, method)\n",
        "\n",
        "        # Compute histogram of LBP\n",
        "        hist, _ = np.histogram(lbp.ravel(), bins=np.arange(0, n_points + 3), range=(0, n_points + 2))\n",
        "        hist = hist.astype(\"float\")\n",
        "        hist /= (hist.sum() + 1e-7)\n",
        "\n",
        "        features.append(hist)\n",
        "\n",
        "    return np.array(features)\n",
        "\n",
        "lbp_features = extract_lbp_features(images)"
      ],
      "metadata": {
        "id": "dzP-Kdr8i5S8"
      },
      "execution_count": null,
      "outputs": []
    },
    {
      "cell_type": "code",
      "source": [
        "from sklearn.metrics import accuracy_score\n",
        "def train_and_evaluate_classifiers(X, y):\n",
        "  print(\"Here\")\n",
        "  X_train, X_test, y_train, y_test = train_test_split(X, y, test_size=0.2, random_state=42)\n",
        "\n",
        "  # KNN\n",
        "  knn = KNeighborsClassifier(n_neighbors=5)\n",
        "  knn.fit(X_train, y_train)\n",
        "  knn_pred = knn.predict(X_test)\n",
        "  knn_accuracy = accuracy_score(y_test, knn_pred)\n",
        "  knn_precision = precision_score(y_test, knn_pred, average='weighted')\n",
        "  knn_recall = recall_score(y_test, knn_pred, average='weighted')\n",
        "  knn_f1 = f1_score(y_test, knn_pred, average='weighted')\n",
        "  knn_res = [knn_accuracy, knn_precision, knn_recall, knn_f1]\n",
        "\n",
        "  # Random Forest\n",
        "  rf = RandomForestClassifier(n_estimators=100, random_state=42)\n",
        "  rf.fit(X_train, y_train)\n",
        "  rf_pred = rf.predict(X_test)\n",
        "  rf_accuracy = accuracy_score(y_test, rf_pred)\n",
        "  rf_precision = precision_score(y_test, rf_pred, average='weighted')\n",
        "  rf_recall = recall_score(y_test, rf_pred, average='weighted')\n",
        "  rf_f1 = f1_score(y_test, rf_pred, average='weighted')\n",
        "  rf_result = [rf_accuracy, rf_precision, rf_recall, rf_f1]\n",
        "\n",
        "  # Train SVM classifier\n",
        "  svm = SVC(kernel='rbf', C=10)\n",
        "  svm.fit(X_train, y_train)\n",
        "  svm_pred = svm.predict(X_test)\n",
        "  svm_accuracy = accuracy_score(y_test, svm_pred)\n",
        "  svm_precision = precision_score(y_test, svm_pred, average='weighted')\n",
        "  svm_recall = recall_score(y_test, svm_pred, average='weighted')\n",
        "  svm_f1 = f1_score(y_test, svm_pred, average='weighted')\n",
        "  svm_result = [svm_accuracy, svm_precision, svm_recall, svm_f1]\n",
        "\n",
        "  # Decision Tree classifier\n",
        "\n",
        "  dt = DecisionTreeClassifier()\n",
        "  dt.fit(X_train, y_train)\n",
        "  dt_pred = dt.predict(X_test)\n",
        "  dt_accuracy = accuracy_score(y_test, dt_pred)\n",
        "  dt_precision = precision_score(y_test, dt_pred, average='weighted')\n",
        "  dt_recall = recall_score(y_test, dt_pred, average='weighted')\n",
        "  dt_f1 = f1_score(y_test, dt_pred, average='weighted')\n",
        "  dt_result = [dt_accuracy, dt_precision, dt_recall, dt_f1]\n",
        "\n",
        "  return [knn_res, rf_result, svm_result, dt_result]"
      ],
      "metadata": {
        "id": "t3X8Cnk20xdS"
      },
      "execution_count": null,
      "outputs": []
    },
    {
      "cell_type": "code",
      "source": [
        "sobel_acc = train_and_evaluate_classifiers(sobel_features, labels)\n",
        "#(Accuracy , Precision , Recall , F1-Score)\n",
        "print(\"For KNN\")\n",
        "print(sobel_acc[0])\n",
        "print(\"For Random Forest\")\n",
        "print(sobel_acc[1])\n",
        "print(\"For SVM\")\n",
        "print(sobel_acc[2])\n",
        "print(\"For Decision Tree\")\n",
        "print(sobel_acc[3])"
      ],
      "metadata": {
        "colab": {
          "base_uri": "https://localhost:8080/"
        },
        "id": "-8EBq62-l-PJ",
        "outputId": "4f93c6c1-9f40-4a78-f2c0-641eeb99b3cd"
      },
      "execution_count": null,
      "outputs": [
        {
          "output_type": "stream",
          "name": "stdout",
          "text": [
            "Here\n",
            "For KNN\n",
            "[0.9818181818181818, 0.9823407875546913, 0.9818181818181818, 0.9812776412029959]\n",
            "For Random Forest\n",
            "[0.9454545454545454, 0.9513685239491692, 0.9454545454545454, 0.9411749101961869]\n",
            "For SVM\n",
            "[0.9863636363636363, 0.9865144877028776, 0.9863636363636363, 0.9862529987654521]\n",
            "For Decision Tree\n",
            "[0.8454545454545455, 0.8453926744761591, 0.8454545454545455, 0.8445215916661619]\n"
          ]
        }
      ]
    },
    {
      "cell_type": "code",
      "source": [
        "lbp_acc = train_and_evaluate_classifiers(lbp_features, labels)\n",
        "#Accuracy , Precision , Recall , F1-Score)\n",
        "print(\"For KNN\")\n",
        "print(lbp_acc[0])\n",
        "print(\"For Random Forest\")\n",
        "print(lbp_acc[1])\n",
        "print(\"For SVM\")\n",
        "print(lbp_acc[2])\n",
        "print(\"For Decision Tree\")\n",
        "print(lbp_acc[3])"
      ],
      "metadata": {
        "colab": {
          "base_uri": "https://localhost:8080/"
        },
        "id": "TYwrM5CKjB4k",
        "outputId": "b4b4e02c-ddea-4436-c061-1a0588aa9172"
      },
      "execution_count": null,
      "outputs": [
        {
          "output_type": "stream",
          "name": "stdout",
          "text": [
            "Here\n",
            "For KNN\n",
            "[0.9318181818181818, 0.9297977204603711, 0.9318181818181818, 0.9304545454545454]\n",
            "For Random Forest\n",
            "[0.9045454545454545, 0.8996486063582859, 0.9045454545454545, 0.8977908055113938]\n",
            "For SVM\n",
            "[0.8318181818181818, 0.732270319882038, 0.8318181818181818, 0.7768125872791458]\n",
            "For Decision Tree\n",
            "[0.8636363636363636, 0.8636363636363636, 0.8636363636363636, 0.8636363636363636]\n"
          ]
        },
        {
          "output_type": "stream",
          "name": "stderr",
          "text": [
            "/usr/local/lib/python3.10/dist-packages/sklearn/metrics/_classification.py:1531: UndefinedMetricWarning: Precision is ill-defined and being set to 0.0 in labels with no predicted samples. Use `zero_division` parameter to control this behavior.\n",
            "  _warn_prf(average, modifier, f\"{metric.capitalize()} is\", len(result))\n"
          ]
        }
      ]
    },
    {
      "cell_type": "code",
      "source": [
        "hog_acc = train_and_evaluate_classifiers(hog_features, labels)\n",
        "#Accuracy , Precision , Recall , F1-Score)\n",
        "print(\"For KNN\")\n",
        "print(hog_acc[0])\n",
        "print(\"For Random Forest\")\n",
        "print(hog_acc[1])\n",
        "print(\"For SVM\")\n",
        "print(hog_acc[2])\n",
        "print(\"For Decision Tree\")\n",
        "print(hog_acc[3])"
      ],
      "metadata": {
        "colab": {
          "base_uri": "https://localhost:8080/"
        },
        "id": "Iu_PUpInjIL0",
        "outputId": "a1ffd9a8-4b67-4a9d-b6f2-59045ae9a57d"
      },
      "execution_count": null,
      "outputs": [
        {
          "output_type": "stream",
          "name": "stdout",
          "text": [
            "Here\n",
            "For KNN\n",
            "[0.9590909090909091, 0.9614793771043771, 0.9590909090909091, 0.959957181015966]\n",
            "For Random Forest\n",
            "[0.9318181818181818, 0.9374068409466638, 0.9318181818181818, 0.9249836752148891]\n",
            "For SVM\n",
            "[0.9863636363636363, 0.9865144877028776, 0.9863636363636363, 0.9862529987654521]\n",
            "For Decision Tree\n",
            "[0.8227272727272728, 0.8207983678669888, 0.8227272727272728, 0.8213222242760165]\n"
          ]
        }
      ]
    }
  ]
}